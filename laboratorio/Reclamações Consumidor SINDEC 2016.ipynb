{
 "cells": [
  {
   "cell_type": "markdown",
   "id": "b871a87f",
   "metadata": {},
   "source": [
    "# [Consumer Business Complaints in Brazil 2016](https://www.kaggle.com/datasets/gerosa/procon)\n",
    "\n",
    "Preparação dos dados e algoritmo de árvore de decisão para tentar predizer `Atendida`, que indica se a reclamação foi resolvida ou não.\n",
    "\n",
    "Data preparation and decision tree algorithm to predict `Atendida`, that indicates if the complaint was resolved or not."
   ]
  },
  {
   "cell_type": "code",
   "execution_count": 1,
   "id": "cc74ebbb",
   "metadata": {},
   "outputs": [],
   "source": [
    "import pandas as pd\n",
    "import numpy as np\n",
    "import matplotlib.pyplot as plt\n",
    "import seaborn as sns\n",
    "import warnings\n",
    "\n",
    "warnings.filterwarnings(\"ignore\") # Just to make the notebook cleaner, feel free to take it out"
   ]
  },
  {
   "cell_type": "code",
   "execution_count": 2,
   "id": "7c411188",
   "metadata": {},
   "outputs": [],
   "source": [
    "df = pd.read_csv(\"reclamacoes-fundamentadas-sindec-2016.csv\")"
   ]
  },
  {
   "cell_type": "code",
   "execution_count": 3,
   "id": "8de7d822",
   "metadata": {},
   "outputs": [
    {
     "data": {
      "text/html": [
       "<div>\n",
       "<style scoped>\n",
       "    .dataframe tbody tr th:only-of-type {\n",
       "        vertical-align: middle;\n",
       "    }\n",
       "\n",
       "    .dataframe tbody tr th {\n",
       "        vertical-align: top;\n",
       "    }\n",
       "\n",
       "    .dataframe thead th {\n",
       "        text-align: right;\n",
       "    }\n",
       "</style>\n",
       "<table border=\"1\" class=\"dataframe\">\n",
       "  <thead>\n",
       "    <tr style=\"text-align: right;\">\n",
       "      <th></th>\n",
       "      <th>AnoCalendario</th>\n",
       "      <th>DataArquivamento</th>\n",
       "      <th>DataAbertura</th>\n",
       "      <th>CodigoRegiao</th>\n",
       "      <th>Regiao</th>\n",
       "      <th>UF</th>\n",
       "      <th>strRazaoSocial</th>\n",
       "      <th>strNomeFantasia</th>\n",
       "      <th>Tipo</th>\n",
       "      <th>NumeroCNPJ</th>\n",
       "      <th>...</th>\n",
       "      <th>CNAEPrincipal</th>\n",
       "      <th>DescCNAEPrincipal</th>\n",
       "      <th>Atendida</th>\n",
       "      <th>CodigoAssunto</th>\n",
       "      <th>DescricaoAssunto</th>\n",
       "      <th>CodigoProblema</th>\n",
       "      <th>DescricaoProblema</th>\n",
       "      <th>SexoConsumidor</th>\n",
       "      <th>FaixaEtariaConsumidor</th>\n",
       "      <th>CEPConsumidor</th>\n",
       "    </tr>\n",
       "  </thead>\n",
       "  <tbody>\n",
       "    <tr>\n",
       "      <th>0</th>\n",
       "      <td>2016</td>\n",
       "      <td>2016-02-17 13:43:08.000</td>\n",
       "      <td>2015-10-29 10:59:59.000</td>\n",
       "      <td>2</td>\n",
       "      <td>Nordeste</td>\n",
       "      <td>PE</td>\n",
       "      <td>CVC BRASIL OPERADORA E AGENCIA DE VIAGENS S.A.</td>\n",
       "      <td>CVC</td>\n",
       "      <td>1</td>\n",
       "      <td>1.076026e+13</td>\n",
       "      <td>...</td>\n",
       "      <td>7911200.0</td>\n",
       "      <td>AGÊNCIAS DE VIAGENS</td>\n",
       "      <td>S</td>\n",
       "      <td>276</td>\n",
       "      <td>Agências e Operadoras de viagens (pacotes turí...</td>\n",
       "      <td>205.0</td>\n",
       "      <td>Consulta Sobre Serviços (Pesquisa, cartilha, e...</td>\n",
       "      <td>M</td>\n",
       "      <td>entre 61 a 70 anos</td>\n",
       "      <td>52061540.0</td>\n",
       "    </tr>\n",
       "    <tr>\n",
       "      <th>1</th>\n",
       "      <td>2016</td>\n",
       "      <td>2016-12-15 18:11:35.000</td>\n",
       "      <td>2016-11-18 14:52:22.000</td>\n",
       "      <td>2</td>\n",
       "      <td>Nordeste</td>\n",
       "      <td>PE</td>\n",
       "      <td>GIORGIO ARMANI BRASIL COMERCIO</td>\n",
       "      <td>EMPORIO ARMANI</td>\n",
       "      <td>1</td>\n",
       "      <td>1.318050e+13</td>\n",
       "      <td>...</td>\n",
       "      <td>NaN</td>\n",
       "      <td>NaN</td>\n",
       "      <td>N</td>\n",
       "      <td>132</td>\n",
       "      <td>Vestuário ( Calçado / Roupa )</td>\n",
       "      <td>105.0</td>\n",
       "      <td>Produto com vício</td>\n",
       "      <td>F</td>\n",
       "      <td>entre 31 a 40 anos</td>\n",
       "      <td>51010140.0</td>\n",
       "    </tr>\n",
       "    <tr>\n",
       "      <th>2</th>\n",
       "      <td>2016</td>\n",
       "      <td>2016-09-16 09:01:46.000</td>\n",
       "      <td>2016-06-29 13:58:35.000</td>\n",
       "      <td>2</td>\n",
       "      <td>Nordeste</td>\n",
       "      <td>PE</td>\n",
       "      <td>COMPANHIA ENERGETICA DE PERNAMBUCO</td>\n",
       "      <td>CELPE</td>\n",
       "      <td>1</td>\n",
       "      <td>1.083593e+13</td>\n",
       "      <td>...</td>\n",
       "      <td>3514000.0</td>\n",
       "      <td>DISTRIBUIÇÃO DE ENERGIA ELÉTRICA</td>\n",
       "      <td>S</td>\n",
       "      <td>185</td>\n",
       "      <td>Energia Elétrica</td>\n",
       "      <td>134.0</td>\n",
       "      <td>Cobrança indevida/abusiva</td>\n",
       "      <td>F</td>\n",
       "      <td>entre 51 a 60 anos</td>\n",
       "      <td>53060600.0</td>\n",
       "    </tr>\n",
       "    <tr>\n",
       "      <th>3</th>\n",
       "      <td>2016</td>\n",
       "      <td>2016-02-18 13:30:30.000</td>\n",
       "      <td>2016-01-21 12:23:51.000</td>\n",
       "      <td>2</td>\n",
       "      <td>Nordeste</td>\n",
       "      <td>PE</td>\n",
       "      <td>MOURA DUBEUX</td>\n",
       "      <td>MOURA DUBEUX</td>\n",
       "      <td>1</td>\n",
       "      <td>1.204963e+13</td>\n",
       "      <td>...</td>\n",
       "      <td>4120400.0</td>\n",
       "      <td>CONSTRUÇÃO DE EDIFÍCIOS</td>\n",
       "      <td>S</td>\n",
       "      <td>82</td>\n",
       "      <td>Incorporação ( Construtoras e Incorporadoras )</td>\n",
       "      <td>88.0</td>\n",
       "      <td>Não entrega do contrato</td>\n",
       "      <td>M</td>\n",
       "      <td>entre 51 a 60 anos</td>\n",
       "      <td>53090220.0</td>\n",
       "    </tr>\n",
       "    <tr>\n",
       "      <th>4</th>\n",
       "      <td>2016</td>\n",
       "      <td>2016-11-09 14:20:36.000</td>\n",
       "      <td>2016-10-07 16:39:59.000</td>\n",
       "      <td>2</td>\n",
       "      <td>Nordeste</td>\n",
       "      <td>PE</td>\n",
       "      <td>ASSOCIAÇÃO UNIFICADA PAULISTA DE ENSINO RENOVADO</td>\n",
       "      <td>UNIP</td>\n",
       "      <td>1</td>\n",
       "      <td>NaN</td>\n",
       "      <td>...</td>\n",
       "      <td>NaN</td>\n",
       "      <td>NaN</td>\n",
       "      <td>S</td>\n",
       "      <td>233</td>\n",
       "      <td>Escola ( Pré, 1º, 2º Graus e Superior )</td>\n",
       "      <td>199.0</td>\n",
       "      <td>Documentos: não fornecimento (escolares, recib...</td>\n",
       "      <td>F</td>\n",
       "      <td>entre 21 a 30 anos</td>\n",
       "      <td>53437100.0</td>\n",
       "    </tr>\n",
       "  </tbody>\n",
       "</table>\n",
       "<p>5 rows × 23 columns</p>\n",
       "</div>"
      ],
      "text/plain": [
       "   AnoCalendario         DataArquivamento             DataAbertura  \\\n",
       "0           2016  2016-02-17 13:43:08.000  2015-10-29 10:59:59.000   \n",
       "1           2016  2016-12-15 18:11:35.000  2016-11-18 14:52:22.000   \n",
       "2           2016  2016-09-16 09:01:46.000  2016-06-29 13:58:35.000   \n",
       "3           2016  2016-02-18 13:30:30.000  2016-01-21 12:23:51.000   \n",
       "4           2016  2016-11-09 14:20:36.000  2016-10-07 16:39:59.000   \n",
       "\n",
       "   CodigoRegiao    Regiao  UF  \\\n",
       "0             2  Nordeste  PE   \n",
       "1             2  Nordeste  PE   \n",
       "2             2  Nordeste  PE   \n",
       "3             2  Nordeste  PE   \n",
       "4             2  Nordeste  PE   \n",
       "\n",
       "                                     strRazaoSocial strNomeFantasia  Tipo  \\\n",
       "0    CVC BRASIL OPERADORA E AGENCIA DE VIAGENS S.A.             CVC     1   \n",
       "1                    GIORGIO ARMANI BRASIL COMERCIO  EMPORIO ARMANI     1   \n",
       "2                COMPANHIA ENERGETICA DE PERNAMBUCO           CELPE     1   \n",
       "3                                      MOURA DUBEUX    MOURA DUBEUX     1   \n",
       "4  ASSOCIAÇÃO UNIFICADA PAULISTA DE ENSINO RENOVADO            UNIP     1   \n",
       "\n",
       "     NumeroCNPJ  ...  CNAEPrincipal                 DescCNAEPrincipal  \\\n",
       "0  1.076026e+13  ...      7911200.0               AGÊNCIAS DE VIAGENS   \n",
       "1  1.318050e+13  ...            NaN                               NaN   \n",
       "2  1.083593e+13  ...      3514000.0  DISTRIBUIÇÃO DE ENERGIA ELÉTRICA   \n",
       "3  1.204963e+13  ...      4120400.0           CONSTRUÇÃO DE EDIFÍCIOS   \n",
       "4           NaN  ...            NaN                               NaN   \n",
       "\n",
       "  Atendida  CodigoAssunto                                   DescricaoAssunto  \\\n",
       "0        S            276  Agências e Operadoras de viagens (pacotes turí...   \n",
       "1        N            132                      Vestuário ( Calçado / Roupa )   \n",
       "2        S            185                                   Energia Elétrica   \n",
       "3        S             82     Incorporação ( Construtoras e Incorporadoras )   \n",
       "4        S            233            Escola ( Pré, 1º, 2º Graus e Superior )   \n",
       "\n",
       "  CodigoProblema                                  DescricaoProblema  \\\n",
       "0          205.0  Consulta Sobre Serviços (Pesquisa, cartilha, e...   \n",
       "1          105.0                                  Produto com vício   \n",
       "2          134.0                          Cobrança indevida/abusiva   \n",
       "3           88.0                            Não entrega do contrato   \n",
       "4          199.0  Documentos: não fornecimento (escolares, recib...   \n",
       "\n",
       "  SexoConsumidor  FaixaEtariaConsumidor CEPConsumidor  \n",
       "0              M     entre 61 a 70 anos    52061540.0  \n",
       "1              F     entre 31 a 40 anos    51010140.0  \n",
       "2              F     entre 51 a 60 anos    53060600.0  \n",
       "3              M     entre 51 a 60 anos    53090220.0  \n",
       "4              F     entre 21 a 30 anos    53437100.0  \n",
       "\n",
       "[5 rows x 23 columns]"
      ]
     },
     "execution_count": 3,
     "metadata": {},
     "output_type": "execute_result"
    }
   ],
   "source": [
    "df.head()"
   ]
  },
  {
   "cell_type": "code",
   "execution_count": 4,
   "id": "0bffb43c",
   "metadata": {},
   "outputs": [
    {
     "name": "stdout",
     "output_type": "stream",
     "text": [
      "<class 'pandas.core.frame.DataFrame'>\n",
      "RangeIndex: 203486 entries, 0 to 203485\n",
      "Data columns (total 23 columns):\n",
      " #   Column                 Non-Null Count   Dtype  \n",
      "---  ------                 --------------   -----  \n",
      " 0   AnoCalendario          203486 non-null  int64  \n",
      " 1   DataArquivamento       203486 non-null  object \n",
      " 2   DataAbertura           203486 non-null  object \n",
      " 3   CodigoRegiao           203486 non-null  int64  \n",
      " 4   Regiao                 203486 non-null  object \n",
      " 5   UF                     203486 non-null  object \n",
      " 6   strRazaoSocial         203483 non-null  object \n",
      " 7   strNomeFantasia        173722 non-null  object \n",
      " 8   Tipo                   203486 non-null  int64  \n",
      " 9   NumeroCNPJ             195292 non-null  float64\n",
      " 10  RadicalCNPJ            195292 non-null  float64\n",
      " 11  RazaoSocialRFB         187287 non-null  object \n",
      " 12  NomeFantasiaRFB        92561 non-null   object \n",
      " 13  CNAEPrincipal          187287 non-null  float64\n",
      " 14  DescCNAEPrincipal      185784 non-null  object \n",
      " 15  Atendida               203486 non-null  object \n",
      " 16  CodigoAssunto          203486 non-null  int64  \n",
      " 17  DescricaoAssunto       203486 non-null  object \n",
      " 18  CodigoProblema         203476 non-null  float64\n",
      " 19  DescricaoProblema      203476 non-null  object \n",
      " 20  SexoConsumidor         203484 non-null  object \n",
      " 21  FaixaEtariaConsumidor  203486 non-null  object \n",
      " 22  CEPConsumidor          189400 non-null  float64\n",
      "dtypes: float64(5), int64(4), object(14)\n",
      "memory usage: 35.7+ MB\n"
     ]
    }
   ],
   "source": [
    "df.info()"
   ]
  },
  {
   "cell_type": "markdown",
   "id": "582c2784",
   "metadata": {},
   "source": [
    "Datas estão no formato errado!\n",
    "\n",
    "*Dates are the wrong dtypes*"
   ]
  },
  {
   "cell_type": "code",
   "execution_count": 5,
   "id": "ee9e74c7",
   "metadata": {
    "scrolled": true
   },
   "outputs": [
    {
     "data": {
      "text/html": [
       "<div>\n",
       "<style scoped>\n",
       "    .dataframe tbody tr th:only-of-type {\n",
       "        vertical-align: middle;\n",
       "    }\n",
       "\n",
       "    .dataframe tbody tr th {\n",
       "        vertical-align: top;\n",
       "    }\n",
       "\n",
       "    .dataframe thead th {\n",
       "        text-align: right;\n",
       "    }\n",
       "</style>\n",
       "<table border=\"1\" class=\"dataframe\">\n",
       "  <thead>\n",
       "    <tr style=\"text-align: right;\">\n",
       "      <th></th>\n",
       "      <th>DataArquivamento</th>\n",
       "      <th>DataAbertura</th>\n",
       "    </tr>\n",
       "  </thead>\n",
       "  <tbody>\n",
       "    <tr>\n",
       "      <th>0</th>\n",
       "      <td>2016-02-17 13:43:08.000</td>\n",
       "      <td>2015-10-29 10:59:59.000</td>\n",
       "    </tr>\n",
       "    <tr>\n",
       "      <th>1</th>\n",
       "      <td>2016-12-15 18:11:35.000</td>\n",
       "      <td>2016-11-18 14:52:22.000</td>\n",
       "    </tr>\n",
       "    <tr>\n",
       "      <th>2</th>\n",
       "      <td>2016-09-16 09:01:46.000</td>\n",
       "      <td>2016-06-29 13:58:35.000</td>\n",
       "    </tr>\n",
       "    <tr>\n",
       "      <th>3</th>\n",
       "      <td>2016-02-18 13:30:30.000</td>\n",
       "      <td>2016-01-21 12:23:51.000</td>\n",
       "    </tr>\n",
       "    <tr>\n",
       "      <th>4</th>\n",
       "      <td>2016-11-09 14:20:36.000</td>\n",
       "      <td>2016-10-07 16:39:59.000</td>\n",
       "    </tr>\n",
       "  </tbody>\n",
       "</table>\n",
       "</div>"
      ],
      "text/plain": [
       "          DataArquivamento             DataAbertura\n",
       "0  2016-02-17 13:43:08.000  2015-10-29 10:59:59.000\n",
       "1  2016-12-15 18:11:35.000  2016-11-18 14:52:22.000\n",
       "2  2016-09-16 09:01:46.000  2016-06-29 13:58:35.000\n",
       "3  2016-02-18 13:30:30.000  2016-01-21 12:23:51.000\n",
       "4  2016-11-09 14:20:36.000  2016-10-07 16:39:59.000"
      ]
     },
     "execution_count": 5,
     "metadata": {},
     "output_type": "execute_result"
    }
   ],
   "source": [
    "df[[\"DataArquivamento\", \"DataAbertura\"]].head()"
   ]
  },
  {
   "cell_type": "code",
   "execution_count": 6,
   "id": "16565c3b",
   "metadata": {},
   "outputs": [],
   "source": [
    "df[[\"DataArquivamento\", \"DataAbertura\"]] = df[[\"DataArquivamento\", \"DataAbertura\"]].apply(pd.to_datetime)"
   ]
  },
  {
   "cell_type": "code",
   "execution_count": 7,
   "id": "a6c54361",
   "metadata": {
    "scrolled": false
   },
   "outputs": [
    {
     "name": "stdout",
     "output_type": "stream",
     "text": [
      "<class 'pandas.core.frame.DataFrame'>\n",
      "RangeIndex: 203486 entries, 0 to 203485\n",
      "Data columns (total 2 columns):\n",
      " #   Column            Non-Null Count   Dtype         \n",
      "---  ------            --------------   -----         \n",
      " 0   DataArquivamento  203486 non-null  datetime64[ns]\n",
      " 1   DataAbertura      203486 non-null  datetime64[ns]\n",
      "dtypes: datetime64[ns](2)\n",
      "memory usage: 3.1 MB\n"
     ]
    }
   ],
   "source": [
    "df[[\"DataArquivamento\", \"DataAbertura\"]].info()"
   ]
  },
  {
   "cell_type": "markdown",
   "id": "99fe7b31",
   "metadata": {},
   "source": [
    "___\n",
    "Agora vamos checar dados faltantes.\n",
    "\n",
    "*Let's check for missing data.*"
   ]
  },
  {
   "cell_type": "code",
   "execution_count": 8,
   "id": "0a32e894",
   "metadata": {},
   "outputs": [
    {
     "data": {
      "text/plain": [
       "AnoCalendario                 0\n",
       "DataArquivamento              0\n",
       "DataAbertura                  0\n",
       "CodigoRegiao                  0\n",
       "Regiao                        0\n",
       "UF                            0\n",
       "strRazaoSocial                3\n",
       "strNomeFantasia           29764\n",
       "Tipo                          0\n",
       "NumeroCNPJ                 8194\n",
       "RadicalCNPJ                8194\n",
       "RazaoSocialRFB            16199\n",
       "NomeFantasiaRFB          110925\n",
       "CNAEPrincipal             16199\n",
       "DescCNAEPrincipal         17702\n",
       "Atendida                      0\n",
       "CodigoAssunto                 0\n",
       "DescricaoAssunto              0\n",
       "CodigoProblema               10\n",
       "DescricaoProblema            10\n",
       "SexoConsumidor                2\n",
       "FaixaEtariaConsumidor         0\n",
       "CEPConsumidor             14086\n",
       "dtype: int64"
      ]
     },
     "execution_count": 8,
     "metadata": {},
     "output_type": "execute_result"
    }
   ],
   "source": [
    "df.isna().sum()"
   ]
  },
  {
   "cell_type": "code",
   "execution_count": 9,
   "id": "7b4333aa",
   "metadata": {},
   "outputs": [
    {
     "data": {
      "text/plain": [
       "Index(['strRazaoSocial', 'strNomeFantasia', 'NumeroCNPJ', 'RadicalCNPJ',\n",
       "       'RazaoSocialRFB', 'NomeFantasiaRFB', 'CNAEPrincipal',\n",
       "       'DescCNAEPrincipal', 'CodigoProblema', 'DescricaoProblema',\n",
       "       'SexoConsumidor', 'CEPConsumidor'],\n",
       "      dtype='object')"
      ]
     },
     "execution_count": 9,
     "metadata": {},
     "output_type": "execute_result"
    }
   ],
   "source": [
    "df.columns[df.isna().sum() > 0]"
   ]
  },
  {
   "cell_type": "markdown",
   "id": "a3bcb9bf",
   "metadata": {},
   "source": [
    "Exceto `'CEPConsumidor', 'CodigoProblema', 'DescricaoProblema', 'SexoConsumidor'`, todos são identificadores da empresa. `CEPConsumidor` não é muito impactante, pois temos UF e Região. O resto, podemos fazer imputação ou apenas retirar as linhas.\n",
    "\n",
    "*The `'CEPConsumidor', 'CodigoProblema', 'DescricaoProblema', 'SexoConsumidor'` columns are regarding business identification. `CEPConsumidor` (Consumer's ZIP code) is not very impactful, once we have the state and region. For he rest of the columns, we can do imputation methods or drop the rows.*\n",
    "\n",
    "___"
   ]
  },
  {
   "cell_type": "markdown",
   "id": "ad0db74c",
   "metadata": {},
   "source": [
    "## Algumas Análises Exploratórias\n",
    "### *Some Exploratory Analysis*"
   ]
  },
  {
   "cell_type": "markdown",
   "id": "8cecb3a0",
   "metadata": {},
   "source": [
    "Faixas etárias\n",
    "\n",
    "*Age groups*"
   ]
  },
  {
   "cell_type": "code",
   "execution_count": 10,
   "id": "c872de1d",
   "metadata": {
    "scrolled": true
   },
   "outputs": [
    {
     "data": {
      "text/plain": [
       "entre 31 a 40 anos    45422\n",
       "entre 41 a 50 anos    37963\n",
       "entre 21 a 30 anos    33237\n",
       "entre 51 a 60 anos    31717\n",
       "entre 61 a 70 anos    22660\n",
       "Nao Informada         16790\n",
       "mais de 70 anos       10893\n",
       "até 20 anos            4804\n",
       "Name: FaixaEtariaConsumidor, dtype: int64"
      ]
     },
     "execution_count": 10,
     "metadata": {},
     "output_type": "execute_result"
    }
   ],
   "source": [
    "df[\"FaixaEtariaConsumidor\"].value_counts()"
   ]
  },
  {
   "cell_type": "markdown",
   "id": "f727164a",
   "metadata": {},
   "source": [
    "Tipos de Reclamações\n",
    "\n",
    "*Complaint types*"
   ]
  },
  {
   "cell_type": "code",
   "execution_count": 11,
   "id": "52621839",
   "metadata": {},
   "outputs": [
    {
     "data": {
      "text/plain": [
       "255"
      ]
     },
     "execution_count": 11,
     "metadata": {},
     "output_type": "execute_result"
    }
   ],
   "source": [
    "df[\"CodigoProblema\"].nunique()"
   ]
  },
  {
   "cell_type": "markdown",
   "id": "47553750",
   "metadata": {},
   "source": [
    "Top 10 reclamações mais decorrentes e sua descrição\n",
    "\n",
    "*Top 10 complaints and their description (in portuguese)*"
   ]
  },
  {
   "cell_type": "code",
   "execution_count": 12,
   "id": "33e0e2e7",
   "metadata": {},
   "outputs": [
    {
     "data": {
      "text/plain": [
       "CodigoProblema\n",
       "105.0             47301\n",
       "134.0             23194\n",
       "28.0              19857\n",
       "102.0             10614\n",
       "194.0              9695\n",
       "107.0              8544\n",
       "27.0               5909\n",
       "203.0              3496\n",
       "116.0              3103\n",
       "184.0              2824\n",
       "dtype: int64"
      ]
     },
     "execution_count": 12,
     "metadata": {},
     "output_type": "execute_result"
    }
   ],
   "source": [
    "df[[\"CodigoProblema\"]].value_counts()[0:10]"
   ]
  },
  {
   "cell_type": "code",
   "execution_count": 13,
   "id": "ab16176a",
   "metadata": {},
   "outputs": [],
   "source": [
    "cod = []\n",
    "for i in range(0, 10):\n",
    "    cod.append(df[[\"CodigoProblema\"]].value_counts()[0:10].index[i][0])"
   ]
  },
  {
   "cell_type": "code",
   "execution_count": 14,
   "id": "f0f193d4",
   "metadata": {},
   "outputs": [
    {
     "data": {
      "text/plain": [
       "[105.0, 134.0, 28.0, 102.0, 194.0, 107.0, 27.0, 203.0, 116.0, 184.0]"
      ]
     },
     "execution_count": 14,
     "metadata": {},
     "output_type": "execute_result"
    }
   ],
   "source": [
    "cod"
   ]
  },
  {
   "cell_type": "code",
   "execution_count": 15,
   "id": "e358c005",
   "metadata": {
    "scrolled": true
   },
   "outputs": [
    {
     "data": {
      "text/plain": [
       "array(['Produto com vício', 'Cobrança indevida/abusiva',\n",
       "       'Contrato/pedido/orçamento (rescisão, descumprimento, erro, etc.)',\n",
       "       'Contrato (não cumprimento, alteração, transferencia, irregularidade, rescisão, etc.)',\n",
       "       'Contrato - Rescisão/alteração unilateral',\n",
       "       'Serviço não fornecido (entrega/instalação/não cumprimento da oferta/contrato)',\n",
       "       'Não entrega/demora na entrega do produto',\n",
       "       'Garantia (Abrangência, cobertura, etc.)'], dtype=object)"
      ]
     },
     "execution_count": 15,
     "metadata": {},
     "output_type": "execute_result"
    }
   ],
   "source": [
    "df[df[\"CodigoProblema\"].isin(cod)][\"DescricaoProblema\"].unique()"
   ]
  },
  {
   "cell_type": "markdown",
   "id": "300b0315",
   "metadata": {},
   "source": [
    "Reclamações por mês\n",
    "\n",
    "*Complaints by month*"
   ]
  },
  {
   "cell_type": "code",
   "execution_count": 16,
   "id": "6506096d",
   "metadata": {
    "scrolled": true
   },
   "outputs": [],
   "source": [
    "df[\"MesAbertura\"] = df[\"DataAbertura\"].dt.month"
   ]
  },
  {
   "cell_type": "code",
   "execution_count": 17,
   "id": "1a622f2b",
   "metadata": {},
   "outputs": [],
   "source": [
    "plot = pd.DataFrame(df.groupby(\"MesAbertura\")[\"CodigoAssunto\"].count())"
   ]
  },
  {
   "cell_type": "code",
   "execution_count": 18,
   "id": "53eef5f1",
   "metadata": {
    "scrolled": false
   },
   "outputs": [
    {
     "data": {
      "image/png": "[encoded data removed]",
      "text/plain": [
       "<Figure size 640x480 with 1 Axes>"
      ]
     },
     "metadata": {},
     "output_type": "display_data"
    }
   ],
   "source": [
    "sns.barplot(data=plot, x=plot.index, y=\"CodigoAssunto\")\n",
    "plt.xlabel(\"Mês (Month)\")\n",
    "plt.ylabel(\"Qtd. de Reclamações (# of Complaints)\")\n",
    "plt.show()"
   ]
  },
  {
   "cell_type": "code",
   "execution_count": 19,
   "id": "17e7790d",
   "metadata": {
    "scrolled": false
   },
   "outputs": [
    {
     "data": {
      "image/png": "[encoded data removed]",
      "text/plain": [
       "<Figure size 640x480 with 1 Axes>"
      ]
     },
     "metadata": {},
     "output_type": "display_data"
    }
   ],
   "source": [
    "sns.lineplot(data=plot, x=plot.index, y=\"CodigoAssunto\")\n",
    "plt.xlabel(\"Mês (Month)\")\n",
    "plt.ylabel(\"Qtd. de Reclamações (# of Complaints)\")\n",
    "plt.show()"
   ]
  },
  {
   "cell_type": "markdown",
   "id": "eb4c5772",
   "metadata": {},
   "source": [
    "## Árvore de Decisão\n",
    "### *Decision Tree*"
   ]
  },
  {
   "cell_type": "markdown",
   "id": "8663fa8f",
   "metadata": {},
   "source": [
    "Vamos selecionar algumas variáveis que nos interessam.\n",
    "\n",
    "*Let's select some columns of interest.*"
   ]
  },
  {
   "cell_type": "code",
   "execution_count": 20,
   "id": "888a724e",
   "metadata": {},
   "outputs": [],
   "source": [
    "subset = df[[\"DataAbertura\", \"Regiao\", \"UF\", \n",
    "    \"Tipo\", \"Atendida\", \"CodigoAssunto\", \"CodigoProblema\", \n",
    "    \"SexoConsumidor\", \"FaixaEtariaConsumidor\"]]"
   ]
  },
  {
   "cell_type": "code",
   "execution_count": 21,
   "id": "23b6a973",
   "metadata": {
    "scrolled": true
   },
   "outputs": [
    {
     "data": {
      "text/html": [
       "<div>\n",
       "<style scoped>\n",
       "    .dataframe tbody tr th:only-of-type {\n",
       "        vertical-align: middle;\n",
       "    }\n",
       "\n",
       "    .dataframe tbody tr th {\n",
       "        vertical-align: top;\n",
       "    }\n",
       "\n",
       "    .dataframe thead th {\n",
       "        text-align: right;\n",
       "    }\n",
       "</style>\n",
       "<table border=\"1\" class=\"dataframe\">\n",
       "  <thead>\n",
       "    <tr style=\"text-align: right;\">\n",
       "      <th></th>\n",
       "      <th>DataAbertura</th>\n",
       "      <th>Regiao</th>\n",
       "      <th>UF</th>\n",
       "      <th>Tipo</th>\n",
       "      <th>Atendida</th>\n",
       "      <th>CodigoAssunto</th>\n",
       "      <th>CodigoProblema</th>\n",
       "      <th>SexoConsumidor</th>\n",
       "      <th>FaixaEtariaConsumidor</th>\n",
       "    </tr>\n",
       "  </thead>\n",
       "  <tbody>\n",
       "    <tr>\n",
       "      <th>0</th>\n",
       "      <td>2015-10-29 10:59:59</td>\n",
       "      <td>Nordeste</td>\n",
       "      <td>PE</td>\n",
       "      <td>1</td>\n",
       "      <td>S</td>\n",
       "      <td>276</td>\n",
       "      <td>205.0</td>\n",
       "      <td>M</td>\n",
       "      <td>entre 61 a 70 anos</td>\n",
       "    </tr>\n",
       "    <tr>\n",
       "      <th>1</th>\n",
       "      <td>2016-11-18 14:52:22</td>\n",
       "      <td>Nordeste</td>\n",
       "      <td>PE</td>\n",
       "      <td>1</td>\n",
       "      <td>N</td>\n",
       "      <td>132</td>\n",
       "      <td>105.0</td>\n",
       "      <td>F</td>\n",
       "      <td>entre 31 a 40 anos</td>\n",
       "    </tr>\n",
       "    <tr>\n",
       "      <th>2</th>\n",
       "      <td>2016-06-29 13:58:35</td>\n",
       "      <td>Nordeste</td>\n",
       "      <td>PE</td>\n",
       "      <td>1</td>\n",
       "      <td>S</td>\n",
       "      <td>185</td>\n",
       "      <td>134.0</td>\n",
       "      <td>F</td>\n",
       "      <td>entre 51 a 60 anos</td>\n",
       "    </tr>\n",
       "    <tr>\n",
       "      <th>3</th>\n",
       "      <td>2016-01-21 12:23:51</td>\n",
       "      <td>Nordeste</td>\n",
       "      <td>PE</td>\n",
       "      <td>1</td>\n",
       "      <td>S</td>\n",
       "      <td>82</td>\n",
       "      <td>88.0</td>\n",
       "      <td>M</td>\n",
       "      <td>entre 51 a 60 anos</td>\n",
       "    </tr>\n",
       "    <tr>\n",
       "      <th>4</th>\n",
       "      <td>2016-10-07 16:39:59</td>\n",
       "      <td>Nordeste</td>\n",
       "      <td>PE</td>\n",
       "      <td>1</td>\n",
       "      <td>S</td>\n",
       "      <td>233</td>\n",
       "      <td>199.0</td>\n",
       "      <td>F</td>\n",
       "      <td>entre 21 a 30 anos</td>\n",
       "    </tr>\n",
       "  </tbody>\n",
       "</table>\n",
       "</div>"
      ],
      "text/plain": [
       "         DataAbertura    Regiao  UF  Tipo Atendida  CodigoAssunto  \\\n",
       "0 2015-10-29 10:59:59  Nordeste  PE     1        S            276   \n",
       "1 2016-11-18 14:52:22  Nordeste  PE     1        N            132   \n",
       "2 2016-06-29 13:58:35  Nordeste  PE     1        S            185   \n",
       "3 2016-01-21 12:23:51  Nordeste  PE     1        S             82   \n",
       "4 2016-10-07 16:39:59  Nordeste  PE     1        S            233   \n",
       "\n",
       "   CodigoProblema SexoConsumidor FaixaEtariaConsumidor  \n",
       "0           205.0              M    entre 61 a 70 anos  \n",
       "1           105.0              F    entre 31 a 40 anos  \n",
       "2           134.0              F    entre 51 a 60 anos  \n",
       "3            88.0              M    entre 51 a 60 anos  \n",
       "4           199.0              F    entre 21 a 30 anos  "
      ]
     },
     "execution_count": 21,
     "metadata": {},
     "output_type": "execute_result"
    }
   ],
   "source": [
    "subset.head()"
   ]
  },
  {
   "cell_type": "markdown",
   "id": "1fa830a5",
   "metadata": {},
   "source": [
    "Vamos transformar `DataAbertura` e ficar apenas com o mês de reclamação e o dia da semana.\n",
    "\n",
    "*Transform `DataAbertura` (date the complaint was made) so we only keep the month and the weekday.*"
   ]
  },
  {
   "cell_type": "code",
   "execution_count": 22,
   "id": "35182eb9",
   "metadata": {},
   "outputs": [],
   "source": [
    "subset[\"MesAbertura\"] = subset[\"DataAbertura\"].dt.month\n",
    "subset[\"DiaSemanaAb\"] = subset[\"DataAbertura\"].dt.weekday\n",
    "\n",
    "subset.drop([\"DataAbertura\"], axis = 1, inplace = True)"
   ]
  },
  {
   "cell_type": "code",
   "execution_count": 23,
   "id": "e1eebb16",
   "metadata": {
    "scrolled": true
   },
   "outputs": [
    {
     "data": {
      "text/html": [
       "<div>\n",
       "<style scoped>\n",
       "    .dataframe tbody tr th:only-of-type {\n",
       "        vertical-align: middle;\n",
       "    }\n",
       "\n",
       "    .dataframe tbody tr th {\n",
       "        vertical-align: top;\n",
       "    }\n",
       "\n",
       "    .dataframe thead th {\n",
       "        text-align: right;\n",
       "    }\n",
       "</style>\n",
       "<table border=\"1\" class=\"dataframe\">\n",
       "  <thead>\n",
       "    <tr style=\"text-align: right;\">\n",
       "      <th></th>\n",
       "      <th>Regiao</th>\n",
       "      <th>UF</th>\n",
       "      <th>Tipo</th>\n",
       "      <th>Atendida</th>\n",
       "      <th>CodigoAssunto</th>\n",
       "      <th>CodigoProblema</th>\n",
       "      <th>SexoConsumidor</th>\n",
       "      <th>FaixaEtariaConsumidor</th>\n",
       "      <th>MesAbertura</th>\n",
       "      <th>DiaSemanaAb</th>\n",
       "    </tr>\n",
       "  </thead>\n",
       "  <tbody>\n",
       "    <tr>\n",
       "      <th>0</th>\n",
       "      <td>Nordeste</td>\n",
       "      <td>PE</td>\n",
       "      <td>1</td>\n",
       "      <td>S</td>\n",
       "      <td>276</td>\n",
       "      <td>205.0</td>\n",
       "      <td>M</td>\n",
       "      <td>entre 61 a 70 anos</td>\n",
       "      <td>10</td>\n",
       "      <td>3</td>\n",
       "    </tr>\n",
       "    <tr>\n",
       "      <th>1</th>\n",
       "      <td>Nordeste</td>\n",
       "      <td>PE</td>\n",
       "      <td>1</td>\n",
       "      <td>N</td>\n",
       "      <td>132</td>\n",
       "      <td>105.0</td>\n",
       "      <td>F</td>\n",
       "      <td>entre 31 a 40 anos</td>\n",
       "      <td>11</td>\n",
       "      <td>4</td>\n",
       "    </tr>\n",
       "    <tr>\n",
       "      <th>2</th>\n",
       "      <td>Nordeste</td>\n",
       "      <td>PE</td>\n",
       "      <td>1</td>\n",
       "      <td>S</td>\n",
       "      <td>185</td>\n",
       "      <td>134.0</td>\n",
       "      <td>F</td>\n",
       "      <td>entre 51 a 60 anos</td>\n",
       "      <td>6</td>\n",
       "      <td>2</td>\n",
       "    </tr>\n",
       "    <tr>\n",
       "      <th>3</th>\n",
       "      <td>Nordeste</td>\n",
       "      <td>PE</td>\n",
       "      <td>1</td>\n",
       "      <td>S</td>\n",
       "      <td>82</td>\n",
       "      <td>88.0</td>\n",
       "      <td>M</td>\n",
       "      <td>entre 51 a 60 anos</td>\n",
       "      <td>1</td>\n",
       "      <td>3</td>\n",
       "    </tr>\n",
       "    <tr>\n",
       "      <th>4</th>\n",
       "      <td>Nordeste</td>\n",
       "      <td>PE</td>\n",
       "      <td>1</td>\n",
       "      <td>S</td>\n",
       "      <td>233</td>\n",
       "      <td>199.0</td>\n",
       "      <td>F</td>\n",
       "      <td>entre 21 a 30 anos</td>\n",
       "      <td>10</td>\n",
       "      <td>4</td>\n",
       "    </tr>\n",
       "  </tbody>\n",
       "</table>\n",
       "</div>"
      ],
      "text/plain": [
       "     Regiao  UF  Tipo Atendida  CodigoAssunto  CodigoProblema SexoConsumidor  \\\n",
       "0  Nordeste  PE     1        S            276           205.0              M   \n",
       "1  Nordeste  PE     1        N            132           105.0              F   \n",
       "2  Nordeste  PE     1        S            185           134.0              F   \n",
       "3  Nordeste  PE     1        S             82            88.0              M   \n",
       "4  Nordeste  PE     1        S            233           199.0              F   \n",
       "\n",
       "  FaixaEtariaConsumidor  MesAbertura  DiaSemanaAb  \n",
       "0    entre 61 a 70 anos           10            3  \n",
       "1    entre 31 a 40 anos           11            4  \n",
       "2    entre 51 a 60 anos            6            2  \n",
       "3    entre 51 a 60 anos            1            3  \n",
       "4    entre 21 a 30 anos           10            4  "
      ]
     },
     "execution_count": 23,
     "metadata": {},
     "output_type": "execute_result"
    }
   ],
   "source": [
    "subset.head()"
   ]
  },
  {
   "cell_type": "markdown",
   "id": "2390c090",
   "metadata": {},
   "source": [
    "Transformar a variável de interesse `Atendida`.\n",
    "\n",
    "*Transform the target variable `Atendida`, which indicates if the complaint was solved or not*"
   ]
  },
  {
   "cell_type": "code",
   "execution_count": 24,
   "id": "173f3f1e",
   "metadata": {},
   "outputs": [],
   "source": [
    "subset[\"Atendida\"] = np.where(subset[\"Atendida\"] == \"S\", 1, 0)"
   ]
  },
  {
   "cell_type": "code",
   "execution_count": 25,
   "id": "7536a45f",
   "metadata": {
    "scrolled": true
   },
   "outputs": [
    {
     "data": {
      "text/html": [
       "<div>\n",
       "<style scoped>\n",
       "    .dataframe tbody tr th:only-of-type {\n",
       "        vertical-align: middle;\n",
       "    }\n",
       "\n",
       "    .dataframe tbody tr th {\n",
       "        vertical-align: top;\n",
       "    }\n",
       "\n",
       "    .dataframe thead th {\n",
       "        text-align: right;\n",
       "    }\n",
       "</style>\n",
       "<table border=\"1\" class=\"dataframe\">\n",
       "  <thead>\n",
       "    <tr style=\"text-align: right;\">\n",
       "      <th></th>\n",
       "      <th>Atendida</th>\n",
       "    </tr>\n",
       "  </thead>\n",
       "  <tbody>\n",
       "    <tr>\n",
       "      <th>0</th>\n",
       "      <td>1</td>\n",
       "    </tr>\n",
       "    <tr>\n",
       "      <th>1</th>\n",
       "      <td>0</td>\n",
       "    </tr>\n",
       "    <tr>\n",
       "      <th>2</th>\n",
       "      <td>1</td>\n",
       "    </tr>\n",
       "    <tr>\n",
       "      <th>3</th>\n",
       "      <td>1</td>\n",
       "    </tr>\n",
       "    <tr>\n",
       "      <th>4</th>\n",
       "      <td>1</td>\n",
       "    </tr>\n",
       "  </tbody>\n",
       "</table>\n",
       "</div>"
      ],
      "text/plain": [
       "   Atendida\n",
       "0         1\n",
       "1         0\n",
       "2         1\n",
       "3         1\n",
       "4         1"
      ]
     },
     "execution_count": 25,
     "metadata": {},
     "output_type": "execute_result"
    }
   ],
   "source": [
    "subset[[\"Atendida\"]].head()"
   ]
  },
  {
   "cell_type": "markdown",
   "id": "84f87dd9",
   "metadata": {},
   "source": [
    "Retirando as observações com campos faltantes, vistas anteriormente.\n",
    "\n",
    "*Remove rows with missing data, as we checked previously*"
   ]
  },
  {
   "cell_type": "code",
   "execution_count": 26,
   "id": "8dd58a9b",
   "metadata": {},
   "outputs": [],
   "source": [
    "subset.dropna(subset = subset.columns[subset.isna().sum() > 0], inplace = True)"
   ]
  },
  {
   "cell_type": "code",
   "execution_count": 27,
   "id": "9ceba219",
   "metadata": {},
   "outputs": [
    {
     "data": {
      "text/plain": [
       "Regiao                   0\n",
       "UF                       0\n",
       "Tipo                     0\n",
       "Atendida                 0\n",
       "CodigoAssunto            0\n",
       "CodigoProblema           0\n",
       "SexoConsumidor           0\n",
       "FaixaEtariaConsumidor    0\n",
       "MesAbertura              0\n",
       "DiaSemanaAb              0\n",
       "dtype: int64"
      ]
     },
     "execution_count": 27,
     "metadata": {},
     "output_type": "execute_result"
    }
   ],
   "source": [
    "subset.isna().sum()"
   ]
  },
  {
   "cell_type": "markdown",
   "id": "4df9cae5",
   "metadata": {},
   "source": [
    "Transformar as colunas em dummies. **!!!:** Pouco prático porque tem muitas categorias, mas apenas para estudo preliminar faremos aqui.\n",
    "\n",
    "*Transform columns into dummies. **!!!** Not efficient due too many categories, but for a preliminary study it can be made.*"
   ]
  },
  {
   "cell_type": "code",
   "execution_count": 28,
   "id": "f8e567ab",
   "metadata": {},
   "outputs": [],
   "source": [
    "def f(nome, subset):\n",
    "    tmp = pd.get_dummies(subset[nome], drop_first=True, prefix=nome)\n",
    "    subset = pd.concat([subset, tmp], axis=1)\n",
    "    subset.drop([nome], axis = 1, inplace = True)\n",
    "    return subset"
   ]
  },
  {
   "cell_type": "code",
   "execution_count": 29,
   "id": "f631c2b9",
   "metadata": {},
   "outputs": [],
   "source": [
    "for i in ['Regiao', 'UF', 'Tipo', 'CodigoAssunto', 'CodigoProblema', 'SexoConsumidor', \n",
    "          'FaixaEtariaConsumidor', \"MesAbertura\", \"DiaSemanaAb\"]:\n",
    "    subset = f(i, subset)"
   ]
  },
  {
   "cell_type": "code",
   "execution_count": 30,
   "id": "9e56122d",
   "metadata": {},
   "outputs": [
    {
     "data": {
      "text/html": [
       "<div>\n",
       "<style scoped>\n",
       "    .dataframe tbody tr th:only-of-type {\n",
       "        vertical-align: middle;\n",
       "    }\n",
       "\n",
       "    .dataframe tbody tr th {\n",
       "        vertical-align: top;\n",
       "    }\n",
       "\n",
       "    .dataframe thead th {\n",
       "        text-align: right;\n",
       "    }\n",
       "</style>\n",
       "<table border=\"1\" class=\"dataframe\">\n",
       "  <thead>\n",
       "    <tr style=\"text-align: right;\">\n",
       "      <th></th>\n",
       "      <th>Atendida</th>\n",
       "      <th>Regiao_Nordeste</th>\n",
       "      <th>Regiao_Norte</th>\n",
       "      <th>Regiao_Sudeste</th>\n",
       "      <th>Regiao_Sul</th>\n",
       "      <th>UF_AM</th>\n",
       "      <th>UF_BA</th>\n",
       "      <th>UF_CE</th>\n",
       "      <th>UF_DF</th>\n",
       "      <th>UF_ES</th>\n",
       "      <th>...</th>\n",
       "      <th>MesAbertura_9</th>\n",
       "      <th>MesAbertura_10</th>\n",
       "      <th>MesAbertura_11</th>\n",
       "      <th>MesAbertura_12</th>\n",
       "      <th>DiaSemanaAb_1</th>\n",
       "      <th>DiaSemanaAb_2</th>\n",
       "      <th>DiaSemanaAb_3</th>\n",
       "      <th>DiaSemanaAb_4</th>\n",
       "      <th>DiaSemanaAb_5</th>\n",
       "      <th>DiaSemanaAb_6</th>\n",
       "    </tr>\n",
       "  </thead>\n",
       "  <tbody>\n",
       "    <tr>\n",
       "      <th>0</th>\n",
       "      <td>1</td>\n",
       "      <td>1</td>\n",
       "      <td>0</td>\n",
       "      <td>0</td>\n",
       "      <td>0</td>\n",
       "      <td>0</td>\n",
       "      <td>0</td>\n",
       "      <td>0</td>\n",
       "      <td>0</td>\n",
       "      <td>0</td>\n",
       "      <td>...</td>\n",
       "      <td>0</td>\n",
       "      <td>1</td>\n",
       "      <td>0</td>\n",
       "      <td>0</td>\n",
       "      <td>0</td>\n",
       "      <td>0</td>\n",
       "      <td>1</td>\n",
       "      <td>0</td>\n",
       "      <td>0</td>\n",
       "      <td>0</td>\n",
       "    </tr>\n",
       "    <tr>\n",
       "      <th>1</th>\n",
       "      <td>0</td>\n",
       "      <td>1</td>\n",
       "      <td>0</td>\n",
       "      <td>0</td>\n",
       "      <td>0</td>\n",
       "      <td>0</td>\n",
       "      <td>0</td>\n",
       "      <td>0</td>\n",
       "      <td>0</td>\n",
       "      <td>0</td>\n",
       "      <td>...</td>\n",
       "      <td>0</td>\n",
       "      <td>0</td>\n",
       "      <td>1</td>\n",
       "      <td>0</td>\n",
       "      <td>0</td>\n",
       "      <td>0</td>\n",
       "      <td>0</td>\n",
       "      <td>1</td>\n",
       "      <td>0</td>\n",
       "      <td>0</td>\n",
       "    </tr>\n",
       "    <tr>\n",
       "      <th>2</th>\n",
       "      <td>1</td>\n",
       "      <td>1</td>\n",
       "      <td>0</td>\n",
       "      <td>0</td>\n",
       "      <td>0</td>\n",
       "      <td>0</td>\n",
       "      <td>0</td>\n",
       "      <td>0</td>\n",
       "      <td>0</td>\n",
       "      <td>0</td>\n",
       "      <td>...</td>\n",
       "      <td>0</td>\n",
       "      <td>0</td>\n",
       "      <td>0</td>\n",
       "      <td>0</td>\n",
       "      <td>0</td>\n",
       "      <td>1</td>\n",
       "      <td>0</td>\n",
       "      <td>0</td>\n",
       "      <td>0</td>\n",
       "      <td>0</td>\n",
       "    </tr>\n",
       "    <tr>\n",
       "      <th>3</th>\n",
       "      <td>1</td>\n",
       "      <td>1</td>\n",
       "      <td>0</td>\n",
       "      <td>0</td>\n",
       "      <td>0</td>\n",
       "      <td>0</td>\n",
       "      <td>0</td>\n",
       "      <td>0</td>\n",
       "      <td>0</td>\n",
       "      <td>0</td>\n",
       "      <td>...</td>\n",
       "      <td>0</td>\n",
       "      <td>0</td>\n",
       "      <td>0</td>\n",
       "      <td>0</td>\n",
       "      <td>0</td>\n",
       "      <td>0</td>\n",
       "      <td>1</td>\n",
       "      <td>0</td>\n",
       "      <td>0</td>\n",
       "      <td>0</td>\n",
       "    </tr>\n",
       "    <tr>\n",
       "      <th>4</th>\n",
       "      <td>1</td>\n",
       "      <td>1</td>\n",
       "      <td>0</td>\n",
       "      <td>0</td>\n",
       "      <td>0</td>\n",
       "      <td>0</td>\n",
       "      <td>0</td>\n",
       "      <td>0</td>\n",
       "      <td>0</td>\n",
       "      <td>0</td>\n",
       "      <td>...</td>\n",
       "      <td>0</td>\n",
       "      <td>1</td>\n",
       "      <td>0</td>\n",
       "      <td>0</td>\n",
       "      <td>0</td>\n",
       "      <td>0</td>\n",
       "      <td>0</td>\n",
       "      <td>1</td>\n",
       "      <td>0</td>\n",
       "      <td>0</td>\n",
       "    </tr>\n",
       "  </tbody>\n",
       "</table>\n",
       "<p>5 rows × 531 columns</p>\n",
       "</div>"
      ],
      "text/plain": [
       "   Atendida  Regiao_Nordeste  Regiao_Norte  Regiao_Sudeste  Regiao_Sul  UF_AM  \\\n",
       "0         1                1             0               0           0      0   \n",
       "1         0                1             0               0           0      0   \n",
       "2         1                1             0               0           0      0   \n",
       "3         1                1             0               0           0      0   \n",
       "4         1                1             0               0           0      0   \n",
       "\n",
       "   UF_BA  UF_CE  UF_DF  UF_ES  ...  MesAbertura_9  MesAbertura_10  \\\n",
       "0      0      0      0      0  ...              0               1   \n",
       "1      0      0      0      0  ...              0               0   \n",
       "2      0      0      0      0  ...              0               0   \n",
       "3      0      0      0      0  ...              0               0   \n",
       "4      0      0      0      0  ...              0               1   \n",
       "\n",
       "   MesAbertura_11  MesAbertura_12  DiaSemanaAb_1  DiaSemanaAb_2  \\\n",
       "0               0               0              0              0   \n",
       "1               1               0              0              0   \n",
       "2               0               0              0              1   \n",
       "3               0               0              0              0   \n",
       "4               0               0              0              0   \n",
       "\n",
       "   DiaSemanaAb_3  DiaSemanaAb_4  DiaSemanaAb_5  DiaSemanaAb_6  \n",
       "0              1              0              0              0  \n",
       "1              0              1              0              0  \n",
       "2              0              0              0              0  \n",
       "3              1              0              0              0  \n",
       "4              0              1              0              0  \n",
       "\n",
       "[5 rows x 531 columns]"
      ]
     },
     "execution_count": 30,
     "metadata": {},
     "output_type": "execute_result"
    }
   ],
   "source": [
    "subset.head()"
   ]
  },
  {
   "cell_type": "markdown",
   "id": "2fb4c53a",
   "metadata": {},
   "source": [
    "Salvar os dados tratados (opcional).\n",
    "\n",
    "*Save the clean data (optional).*"
   ]
  },
  {
   "cell_type": "code",
   "execution_count": 31,
   "id": "40b898ab",
   "metadata": {},
   "outputs": [],
   "source": [
    "# subset.to_csv(\"cleanData.csv\", index=False)"
   ]
  },
  {
   "cell_type": "markdown",
   "id": "d1820c02",
   "metadata": {},
   "source": [
    "Divisão da base.\n",
    "\n",
    "*Data splitting.*"
   ]
  },
  {
   "cell_type": "code",
   "execution_count": 32,
   "id": "a750adb4",
   "metadata": {},
   "outputs": [],
   "source": [
    "from sklearn.tree import DecisionTreeClassifier\n",
    "from sklearn.metrics import classification_report, confusion_matrix\n",
    "from sklearn.model_selection import train_test_split\n",
    "\n",
    "X_train, X_test, y_train, y_test = train_test_split(subset.drop(['Atendida'], axis=1), \n",
    "                                                   subset['Atendida'], test_size=0.30, \n",
    "                                                    random_state=101)"
   ]
  },
  {
   "cell_type": "markdown",
   "id": "211bec1f",
   "metadata": {},
   "source": [
    "Treino e ajuste do algoritmo.\n",
    "\n",
    "*Algorithm training and fitting.*"
   ]
  },
  {
   "cell_type": "code",
   "execution_count": 33,
   "id": "0c99cbbf",
   "metadata": {},
   "outputs": [],
   "source": [
    "dtc = DecisionTreeClassifier(random_state=10)"
   ]
  },
  {
   "cell_type": "code",
   "execution_count": 34,
   "id": "91f0f0d4",
   "metadata": {},
   "outputs": [],
   "source": [
    "model = dtc.fit(X_train, y_train)"
   ]
  },
  {
   "cell_type": "code",
   "execution_count": 35,
   "id": "74401402",
   "metadata": {},
   "outputs": [],
   "source": [
    "predictions = model.predict(X_test)"
   ]
  },
  {
   "cell_type": "code",
   "execution_count": 36,
   "id": "ce74f575",
   "metadata": {},
   "outputs": [
    {
     "data": {
      "text/plain": [
       "array([1, 1, 1, ..., 0, 1, 1])"
      ]
     },
     "execution_count": 36,
     "metadata": {},
     "output_type": "execute_result"
    }
   ],
   "source": [
    "predictions"
   ]
  },
  {
   "cell_type": "markdown",
   "id": "557fd810",
   "metadata": {},
   "source": [
    "Matriz de confusão.\n",
    "\n",
    "*Confusion matrix.*"
   ]
  },
  {
   "cell_type": "code",
   "execution_count": 37,
   "id": "392e37a9",
   "metadata": {
    "scrolled": false
   },
   "outputs": [
    {
     "data": {
      "text/plain": [
       "array([[25913, 10405],\n",
       "       [ 9459, 15266]], dtype=int64)"
      ]
     },
     "execution_count": 37,
     "metadata": {},
     "output_type": "execute_result"
    }
   ],
   "source": [
    "cnf_matrix = confusion_matrix(y_test, predictions, labels=[1,0])\n",
    "cnf_matrix"
   ]
  },
  {
   "cell_type": "code",
   "execution_count": 38,
   "id": "9c9d6853",
   "metadata": {
    "scrolled": false
   },
   "outputs": [
    {
     "data": {
      "image/png": "[encoded data removed]",
      "text/plain": [
       "<Figure size 640x480 with 2 Axes>"
      ]
     },
     "metadata": {},
     "output_type": "display_data"
    }
   ],
   "source": [
    "from sklearn.metrics import ConfusionMatrixDisplay\n",
    "ConfusionMatrixDisplay.from_estimator(model, X_test, y_test, labels=[1,0])\n",
    "plt.show()"
   ]
  },
  {
   "cell_type": "code",
   "execution_count": 39,
   "id": "1890bfc1",
   "metadata": {
    "scrolled": true
   },
   "outputs": [
    {
     "data": {
      "text/plain": [
       "array([[25913, 10405],\n",
       "       [ 9459, 15266]], dtype=int64)"
      ]
     },
     "execution_count": 39,
     "metadata": {},
     "output_type": "execute_result"
    }
   ],
   "source": [
    "cnf_matrix = confusion_matrix(y_test, predictions, labels=[1,0])\n",
    "cnf_matrix"
   ]
  },
  {
   "cell_type": "markdown",
   "id": "902ccc17",
   "metadata": {},
   "source": [
    "Erro médio quadrático\n",
    "\n",
    "*Root mean squared error (RMSE)*"
   ]
  },
  {
   "cell_type": "code",
   "execution_count": 40,
   "id": "34415936",
   "metadata": {},
   "outputs": [
    {
     "data": {
      "text/plain": [
       "0.5704471552349235"
      ]
     },
     "execution_count": 40,
     "metadata": {},
     "output_type": "execute_result"
    }
   ],
   "source": [
    "from sklearn.metrics import mean_squared_error\n",
    "mse = mean_squared_error(y_test, predictions)\n",
    "rmse = np.sqrt(mse)\n",
    "rmse"
   ]
  },
  {
   "cell_type": "markdown",
   "id": "8238c13a",
   "metadata": {},
   "source": [
    "Análise da importância de variáveis. Importante para ir ajustando o modelo para dar continuidade ao estudo.\n",
    "\n",
    "*Feature importance analysis. Important to adjust the model if we wish to continue the study.*"
   ]
  },
  {
   "cell_type": "code",
   "execution_count": 41,
   "id": "0b837e0f",
   "metadata": {},
   "outputs": [
    {
     "data": {
      "text/html": [
       "<div>\n",
       "<style scoped>\n",
       "    .dataframe tbody tr th:only-of-type {\n",
       "        vertical-align: middle;\n",
       "    }\n",
       "\n",
       "    .dataframe tbody tr th {\n",
       "        vertical-align: top;\n",
       "    }\n",
       "\n",
       "    .dataframe thead th {\n",
       "        text-align: right;\n",
       "    }\n",
       "</style>\n",
       "<table border=\"1\" class=\"dataframe\">\n",
       "  <thead>\n",
       "    <tr style=\"text-align: right;\">\n",
       "      <th></th>\n",
       "      <th>value</th>\n",
       "    </tr>\n",
       "  </thead>\n",
       "  <tbody>\n",
       "    <tr>\n",
       "      <th>CodigoProblema_262.0</th>\n",
       "      <td>0.044045</td>\n",
       "    </tr>\n",
       "    <tr>\n",
       "      <th>MesAbertura_12</th>\n",
       "      <td>0.032477</td>\n",
       "    </tr>\n",
       "    <tr>\n",
       "      <th>DiaSemanaAb_1</th>\n",
       "      <td>0.031855</td>\n",
       "    </tr>\n",
       "    <tr>\n",
       "      <th>DiaSemanaAb_2</th>\n",
       "      <td>0.031267</td>\n",
       "    </tr>\n",
       "    <tr>\n",
       "      <th>FaixaEtariaConsumidor_entre 21 a 30 anos</th>\n",
       "      <td>0.030160</td>\n",
       "    </tr>\n",
       "    <tr>\n",
       "      <th>DiaSemanaAb_3</th>\n",
       "      <td>0.029514</td>\n",
       "    </tr>\n",
       "    <tr>\n",
       "      <th>FaixaEtariaConsumidor_entre 31 a 40 anos</th>\n",
       "      <td>0.028749</td>\n",
       "    </tr>\n",
       "    <tr>\n",
       "      <th>FaixaEtariaConsumidor_entre 41 a 50 anos</th>\n",
       "      <td>0.026030</td>\n",
       "    </tr>\n",
       "    <tr>\n",
       "      <th>FaixaEtariaConsumidor_até 20 anos</th>\n",
       "      <td>0.024358</td>\n",
       "    </tr>\n",
       "    <tr>\n",
       "      <th>MesAbertura_2</th>\n",
       "      <td>0.019989</td>\n",
       "    </tr>\n",
       "    <tr>\n",
       "      <th>MesAbertura_10</th>\n",
       "      <td>0.019360</td>\n",
       "    </tr>\n",
       "    <tr>\n",
       "      <th>MesAbertura_7</th>\n",
       "      <td>0.019058</td>\n",
       "    </tr>\n",
       "    <tr>\n",
       "      <th>FaixaEtariaConsumidor_mais de 70 anos</th>\n",
       "      <td>0.018645</td>\n",
       "    </tr>\n",
       "    <tr>\n",
       "      <th>MesAbertura_3</th>\n",
       "      <td>0.018533</td>\n",
       "    </tr>\n",
       "    <tr>\n",
       "      <th>MesAbertura_9</th>\n",
       "      <td>0.018484</td>\n",
       "    </tr>\n",
       "  </tbody>\n",
       "</table>\n",
       "</div>"
      ],
      "text/plain": [
       "                                             value\n",
       "CodigoProblema_262.0                      0.044045\n",
       "MesAbertura_12                            0.032477\n",
       "DiaSemanaAb_1                             0.031855\n",
       "DiaSemanaAb_2                             0.031267\n",
       "FaixaEtariaConsumidor_entre 21 a 30 anos  0.030160\n",
       "DiaSemanaAb_3                             0.029514\n",
       "FaixaEtariaConsumidor_entre 31 a 40 anos  0.028749\n",
       "FaixaEtariaConsumidor_entre 41 a 50 anos  0.026030\n",
       "FaixaEtariaConsumidor_até 20 anos         0.024358\n",
       "MesAbertura_2                             0.019989\n",
       "MesAbertura_10                            0.019360\n",
       "MesAbertura_7                             0.019058\n",
       "FaixaEtariaConsumidor_mais de 70 anos     0.018645\n",
       "MesAbertura_3                             0.018533\n",
       "MesAbertura_9                             0.018484"
      ]
     },
     "execution_count": 41,
     "metadata": {},
     "output_type": "execute_result"
    }
   ],
   "source": [
    "features = subset.columns\n",
    "df_import_features = dict(zip(features, model.feature_importances_))\n",
    "df_import_features = pd.DataFrame.from_dict(df_import_features, orient='index', columns = ['value'])\n",
    "df_import_features = df_import_features.sort_values(['value'], ascending=False)\n",
    "df_import_features.head(15)"
   ]
  }
 ],
 "metadata": {
  "kernelspec": {
   "display_name": "Python 3 (ipykernel)",
   "language": "python",
   "name": "python3"
  },
  "language_info": {
   "codemirror_mode": {
    "name": "ipython",
    "version": 3
   },
   "file_extension": ".py",
   "mimetype": "text/x-python",
   "name": "python",
   "nbconvert_exporter": "python",
   "pygments_lexer": "ipython3",
   "version": "3.9.12"
  }
 },
 "nbformat": 4,
 "nbformat_minor": 5
}
