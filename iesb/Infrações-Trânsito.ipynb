{
 "cells": [
  {
   "cell_type": "markdown",
   "id": "229411b7",
   "metadata": {},
   "source": [
    "# Análise dos Dados de Infrações de Trânsito de mai/22\n",
    "<br>\n",
    "<div style=\"text-align: right\"><b>Lucas Seiti Yamazaki</b></div>\n",
    "<br>\n",
    "&nbsp;&nbsp;&nbsp;&nbsp;O Governo do Distrito Federal (GDF) disponibiliza mensalmente em seu site de <a href=\"http://dados.df.gov.br/dataset/infracoes-transito/resource/48db5ea3-4190-4450-ac81-f1eea813a0e0\">dados abertos</a> um relatório consolidado das infrações de trânsito de cada mês. Visando aprimorar políticas públicas direcionadas ao trânsito do Distrito Federal, as análises destas bases é de sumária importância. Delas, alguns <i>insights</i> valiosos podem ser tirados e transformados em melhorias para o cidadão brasiliense.\n",
    "\n",
    "___"
   ]
  },
  {
   "cell_type": "markdown",
   "id": "c9663363",
   "metadata": {},
   "source": [
    "## Informações da Base"
   ]
  },
  {
   "cell_type": "code",
   "execution_count": 106,
   "id": "3de2b913",
   "metadata": {},
   "outputs": [],
   "source": [
    "# Importando as bibliotecas necessárias\n",
    "import pandas as pd\n",
    "import seaborn as sns\n",
    "import matplotlib.pyplot as plt"
   ]
  },
  {
   "cell_type": "code",
   "execution_count": 58,
   "id": "96cd25cb",
   "metadata": {},
   "outputs": [],
   "source": [
    "# Leitura dos dados\n",
    "df = pd.read_csv(\"http://dados.df.gov.br/dataset/3a3b7b40-c715-439d-9dff-f22b47fc5994/resource/48db5ea3-4190-4450-ac81-f1eea813a0e0/download/dados-abertosmai2022.csv\",\n",
    "                 sep = \";\")"
   ]
  },
  {
   "cell_type": "code",
   "execution_count": 3,
   "id": "baa33537",
   "metadata": {
    "scrolled": true
   },
   "outputs": [
    {
     "data": {
      "text/html": [
       "<div>\n",
       "<style scoped>\n",
       "    .dataframe tbody tr th:only-of-type {\n",
       "        vertical-align: middle;\n",
       "    }\n",
       "\n",
       "    .dataframe tbody tr th {\n",
       "        vertical-align: top;\n",
       "    }\n",
       "\n",
       "    .dataframe thead th {\n",
       "        text-align: right;\n",
       "    }\n",
       "</style>\n",
       "<table border=\"1\" class=\"dataframe\">\n",
       "  <thead>\n",
       "    <tr style=\"text-align: right;\">\n",
       "      <th></th>\n",
       "      <th>tipo_infracao</th>\n",
       "      <th>descricao</th>\n",
       "      <th>tipo_infrator</th>\n",
       "      <th>tipo_veiculo</th>\n",
       "      <th>cometimento</th>\n",
       "      <th>hora_cometimento</th>\n",
       "      <th>auinf_local_rodovia</th>\n",
       "      <th>auinf_local_km</th>\n",
       "      <th>auinf_local_referencia</th>\n",
       "      <th>auinf_local_complemento</th>\n",
       "      <th>auinf_local_latitude</th>\n",
       "      <th>auinf_local_longitude</th>\n",
       "      <th>grav_tipo</th>\n",
       "    </tr>\n",
       "  </thead>\n",
       "  <tbody>\n",
       "    <tr>\n",
       "      <th>0</th>\n",
       "      <td>7579-0</td>\n",
       "      <td>Recusar-se a ser submetido a teste, exame clín...</td>\n",
       "      <td>Condutor</td>\n",
       "      <td>Caminhonete</td>\n",
       "      <td>01/05/2022</td>\n",
       "      <td>00:00</td>\n",
       "      <td>DF 095</td>\n",
       "      <td>00</td>\n",
       "      <td>Sentido Crescente</td>\n",
       "      <td>NaN</td>\n",
       "      <td>0.0</td>\n",
       "      <td>0.0</td>\n",
       "      <td>Gravíssima</td>\n",
       "    </tr>\n",
       "    <tr>\n",
       "      <th>1</th>\n",
       "      <td>7455-0</td>\n",
       "      <td>Transitar em velocidade superior à máxima perm...</td>\n",
       "      <td>Condutor</td>\n",
       "      <td>AUTOMOVEL</td>\n",
       "      <td>01/05/2022</td>\n",
       "      <td>00:00</td>\n",
       "      <td>DF-001 (EPCT) KM 77,4 (PISTAO NORTE) SENT DF 0...</td>\n",
       "      <td>NaN</td>\n",
       "      <td>NaN</td>\n",
       "      <td>NaN</td>\n",
       "      <td>NaN</td>\n",
       "      <td>NaN</td>\n",
       "      <td>Média</td>\n",
       "    </tr>\n",
       "    <tr>\n",
       "      <th>2</th>\n",
       "      <td>7455-0</td>\n",
       "      <td>Transitar em velocidade superior à máxima perm...</td>\n",
       "      <td>Condutor</td>\n",
       "      <td>AUTOMOVEL</td>\n",
       "      <td>01/05/2022</td>\n",
       "      <td>00:01</td>\n",
       "      <td>DF-002(EIXAO NORTE) KM 5,8 SENTIDO PTE DO BRAG...</td>\n",
       "      <td>NaN</td>\n",
       "      <td>NaN</td>\n",
       "      <td>NaN</td>\n",
       "      <td>NaN</td>\n",
       "      <td>NaN</td>\n",
       "      <td>Média</td>\n",
       "    </tr>\n",
       "    <tr>\n",
       "      <th>3</th>\n",
       "      <td>7463-0</td>\n",
       "      <td>Transitar em velocidade superior à máxima perm...</td>\n",
       "      <td>Condutor</td>\n",
       "      <td>UTILITARIO</td>\n",
       "      <td>01/05/2022</td>\n",
       "      <td>00:02</td>\n",
       "      <td>DF-095 (EPCL) ESTRUTURAL KM 04,9 SENTIDO BIDIR...</td>\n",
       "      <td>NaN</td>\n",
       "      <td>NaN</td>\n",
       "      <td>NaN</td>\n",
       "      <td>NaN</td>\n",
       "      <td>NaN</td>\n",
       "      <td>Grave</td>\n",
       "    </tr>\n",
       "    <tr>\n",
       "      <th>4</th>\n",
       "      <td>7471-0</td>\n",
       "      <td>Transitar em velocidade superior à máxima perm...</td>\n",
       "      <td>Condutor</td>\n",
       "      <td>AUTOMOVEL</td>\n",
       "      <td>01/05/2022</td>\n",
       "      <td>00:02</td>\n",
       "      <td>DF-095 (EPCL) ESTRUTURAL KM 04,9 SENTIDO BIDIR...</td>\n",
       "      <td>NaN</td>\n",
       "      <td>NaN</td>\n",
       "      <td>NaN</td>\n",
       "      <td>NaN</td>\n",
       "      <td>NaN</td>\n",
       "      <td>Gravíssima</td>\n",
       "    </tr>\n",
       "  </tbody>\n",
       "</table>\n",
       "</div>"
      ],
      "text/plain": [
       "  tipo_infracao                                          descricao  \\\n",
       "0        7579-0  Recusar-se a ser submetido a teste, exame clín...   \n",
       "1        7455-0  Transitar em velocidade superior à máxima perm...   \n",
       "2        7455-0  Transitar em velocidade superior à máxima perm...   \n",
       "3        7463-0  Transitar em velocidade superior à máxima perm...   \n",
       "4        7471-0  Transitar em velocidade superior à máxima perm...   \n",
       "\n",
       "  tipo_infrator               tipo_veiculo cometimento hora_cometimento  \\\n",
       "0      Condutor                Caminhonete  01/05/2022            00:00   \n",
       "1      Condutor  AUTOMOVEL                  01/05/2022            00:00   \n",
       "2      Condutor  AUTOMOVEL                  01/05/2022            00:01   \n",
       "3      Condutor  UTILITARIO                 01/05/2022            00:02   \n",
       "4      Condutor  AUTOMOVEL                  01/05/2022            00:02   \n",
       "\n",
       "                                 auinf_local_rodovia auinf_local_km  \\\n",
       "0                                             DF 095             00   \n",
       "1  DF-001 (EPCT) KM 77,4 (PISTAO NORTE) SENT DF 0...            NaN   \n",
       "2  DF-002(EIXAO NORTE) KM 5,8 SENTIDO PTE DO BRAG...            NaN   \n",
       "3  DF-095 (EPCL) ESTRUTURAL KM 04,9 SENTIDO BIDIR...            NaN   \n",
       "4  DF-095 (EPCL) ESTRUTURAL KM 04,9 SENTIDO BIDIR...            NaN   \n",
       "\n",
       "  auinf_local_referencia auinf_local_complemento  auinf_local_latitude  \\\n",
       "0      Sentido Crescente                     NaN                   0.0   \n",
       "1                    NaN                     NaN                   NaN   \n",
       "2                    NaN                     NaN                   NaN   \n",
       "3                    NaN                     NaN                   NaN   \n",
       "4                    NaN                     NaN                   NaN   \n",
       "\n",
       "   auinf_local_longitude   grav_tipo  \n",
       "0                    0.0  Gravíssima  \n",
       "1                    NaN       Média  \n",
       "2                    NaN       Média  \n",
       "3                    NaN       Grave  \n",
       "4                    NaN  Gravíssima  "
      ]
     },
     "execution_count": 3,
     "metadata": {},
     "output_type": "execute_result"
    }
   ],
   "source": [
    "# Primeiras 5 observações\n",
    "df.head()"
   ]
  },
  {
   "cell_type": "code",
   "execution_count": 40,
   "id": "23496c33",
   "metadata": {
    "scrolled": false
   },
   "outputs": [
    {
     "name": "stdout",
     "output_type": "stream",
     "text": [
      "<class 'pandas.core.frame.DataFrame'>\n",
      "RangeIndex: 87284 entries, 0 to 87283\n",
      "Data columns (total 13 columns):\n",
      " #   Column                   Non-Null Count  Dtype  \n",
      "---  ------                   --------------  -----  \n",
      " 0   tipo_infracao            87284 non-null  object \n",
      " 1   descricao                87284 non-null  object \n",
      " 2   tipo_infrator            87284 non-null  object \n",
      " 3   tipo_veiculo             87284 non-null  object \n",
      " 4   cometimento              87284 non-null  object \n",
      " 5   hora_cometimento         87284 non-null  object \n",
      " 6   auinf_local_rodovia      87265 non-null  object \n",
      " 7   auinf_local_km           19709 non-null  object \n",
      " 8   auinf_local_referencia   19044 non-null  object \n",
      " 9   auinf_local_complemento  2517 non-null   object \n",
      " 10  auinf_local_latitude     19537 non-null  float64\n",
      " 11  auinf_local_longitude    19537 non-null  float64\n",
      " 12  grav_tipo                87284 non-null  object \n",
      "dtypes: float64(2), object(11)\n",
      "memory usage: 8.7+ MB\n"
     ]
    }
   ],
   "source": [
    "# Informações do dataframe\n",
    "df.info()"
   ]
  },
  {
   "cell_type": "code",
   "execution_count": 59,
   "id": "b8f90063",
   "metadata": {
    "scrolled": true
   },
   "outputs": [
    {
     "name": "stdout",
     "output_type": "stream",
     "text": [
      "<class 'pandas.core.frame.DataFrame'>\n",
      "RangeIndex: 87284 entries, 0 to 87283\n",
      "Data columns (total 1 columns):\n",
      " #   Column       Non-Null Count  Dtype         \n",
      "---  ------       --------------  -----         \n",
      " 0   cometimento  87284 non-null  datetime64[ns]\n",
      "dtypes: datetime64[ns](1)\n",
      "memory usage: 682.0 KB\n"
     ]
    }
   ],
   "source": [
    "# Transformando o tipo da coluna \"cometimento\"\n",
    "df[\"cometimento\"] = pd.to_datetime(df[\"cometimento\"], format = \"%d/%m/%Y\")\n",
    "df[[\"cometimento\"]].info()"
   ]
  },
  {
   "cell_type": "markdown",
   "id": "300d8d95",
   "metadata": {},
   "source": [
    "___\n",
    "\n",
    "## Análise por gráfico de linhas"
   ]
  },
  {
   "cell_type": "code",
   "execution_count": 102,
   "id": "bc2c9403",
   "metadata": {
    "scrolled": false
   },
   "outputs": [
    {
     "data": {
      "text/html": [
       "<div>\n",
       "<style scoped>\n",
       "    .dataframe tbody tr th:only-of-type {\n",
       "        vertical-align: middle;\n",
       "    }\n",
       "\n",
       "    .dataframe tbody tr th {\n",
       "        vertical-align: top;\n",
       "    }\n",
       "\n",
       "    .dataframe thead th {\n",
       "        text-align: right;\n",
       "    }\n",
       "</style>\n",
       "<table border=\"1\" class=\"dataframe\">\n",
       "  <thead>\n",
       "    <tr style=\"text-align: right;\">\n",
       "      <th></th>\n",
       "      <th>cometimento</th>\n",
       "    </tr>\n",
       "  </thead>\n",
       "  <tbody>\n",
       "    <tr>\n",
       "      <th>2022-05-01</th>\n",
       "      <td>1914</td>\n",
       "    </tr>\n",
       "    <tr>\n",
       "      <th>2022-05-02</th>\n",
       "      <td>2483</td>\n",
       "    </tr>\n",
       "    <tr>\n",
       "      <th>2022-05-03</th>\n",
       "      <td>2207</td>\n",
       "    </tr>\n",
       "    <tr>\n",
       "      <th>2022-05-04</th>\n",
       "      <td>3956</td>\n",
       "    </tr>\n",
       "    <tr>\n",
       "      <th>2022-05-05</th>\n",
       "      <td>3061</td>\n",
       "    </tr>\n",
       "  </tbody>\n",
       "</table>\n",
       "</div>"
      ],
      "text/plain": [
       "            cometimento\n",
       "2022-05-01         1914\n",
       "2022-05-02         2483\n",
       "2022-05-03         2207\n",
       "2022-05-04         3956\n",
       "2022-05-05         3061"
      ]
     },
     "execution_count": 102,
     "metadata": {},
     "output_type": "execute_result"
    }
   ],
   "source": [
    "data = df['cometimento'].value_counts().sort_index()\n",
    "data = pd.DataFrame(data)\n",
    "data.head()"
   ]
  },
  {
   "cell_type": "code",
   "execution_count": 169,
   "id": "53a23e4b",
   "metadata": {
    "scrolled": true
   },
   "outputs": [
    {
     "data": {
      "image/png": "[encoded data removed]",
      "text/plain": [
       "<Figure size 1080x432 with 1 Axes>"
      ]
     },
     "metadata": {
      "needs_background": "light"
     },
     "output_type": "display_data"
    }
   ],
   "source": [
    "plt.figure(figsize=(15, 6))\n",
    "sns.lineplot(x = data.index, y = \"cometimento\", data = data)\n",
    "plt.title(\"Infrações por Dia\")\n",
    "plt.ylabel(\"Quantidade de Infrações\")\n",
    "plt.show()"
   ]
  },
  {
   "cell_type": "code",
   "execution_count": 126,
   "id": "294cab73",
   "metadata": {
    "scrolled": true
   },
   "outputs": [
    {
     "data": {
      "text/html": [
       "<div>\n",
       "<style scoped>\n",
       "    .dataframe tbody tr th:only-of-type {\n",
       "        vertical-align: middle;\n",
       "    }\n",
       "\n",
       "    .dataframe tbody tr th {\n",
       "        vertical-align: top;\n",
       "    }\n",
       "\n",
       "    .dataframe thead th {\n",
       "        text-align: right;\n",
       "    }\n",
       "</style>\n",
       "<table border=\"1\" class=\"dataframe\">\n",
       "  <thead>\n",
       "    <tr style=\"text-align: right;\">\n",
       "      <th></th>\n",
       "      <th>cometimento</th>\n",
       "      <th>dia_semana</th>\n",
       "    </tr>\n",
       "  </thead>\n",
       "  <tbody>\n",
       "    <tr>\n",
       "      <th>2022-05-01</th>\n",
       "      <td>1914</td>\n",
       "      <td>Sunday</td>\n",
       "    </tr>\n",
       "    <tr>\n",
       "      <th>2022-05-02</th>\n",
       "      <td>2483</td>\n",
       "      <td>Monday</td>\n",
       "    </tr>\n",
       "    <tr>\n",
       "      <th>2022-05-03</th>\n",
       "      <td>2207</td>\n",
       "      <td>Tuesday</td>\n",
       "    </tr>\n",
       "    <tr>\n",
       "      <th>2022-05-04</th>\n",
       "      <td>3956</td>\n",
       "      <td>Wednesday</td>\n",
       "    </tr>\n",
       "    <tr>\n",
       "      <th>2022-05-05</th>\n",
       "      <td>3061</td>\n",
       "      <td>Thursday</td>\n",
       "    </tr>\n",
       "  </tbody>\n",
       "</table>\n",
       "</div>"
      ],
      "text/plain": [
       "            cometimento dia_semana\n",
       "2022-05-01         1914     Sunday\n",
       "2022-05-02         2483     Monday\n",
       "2022-05-03         2207    Tuesday\n",
       "2022-05-04         3956  Wednesday\n",
       "2022-05-05         3061   Thursday"
      ]
     },
     "execution_count": 126,
     "metadata": {},
     "output_type": "execute_result"
    }
   ],
   "source": [
    "data[\"dia_semana\"] = data.index.day_name()\n",
    "data.head()"
   ]
  },
  {
   "cell_type": "markdown",
   "id": "8736aa69",
   "metadata": {},
   "source": [
    "___\n",
    "\n",
    "## Análise por gráficos de barras"
   ]
  },
  {
   "cell_type": "code",
   "execution_count": 22,
   "id": "19326aeb",
   "metadata": {
    "scrolled": true
   },
   "outputs": [
    {
     "data": {
      "text/html": [
       "<div>\n",
       "<style scoped>\n",
       "    .dataframe tbody tr th:only-of-type {\n",
       "        vertical-align: middle;\n",
       "    }\n",
       "\n",
       "    .dataframe tbody tr th {\n",
       "        vertical-align: top;\n",
       "    }\n",
       "\n",
       "    .dataframe thead th {\n",
       "        text-align: right;\n",
       "    }\n",
       "</style>\n",
       "<table border=\"1\" class=\"dataframe\">\n",
       "  <thead>\n",
       "    <tr style=\"text-align: right;\">\n",
       "      <th></th>\n",
       "      <th>tipo_infracao</th>\n",
       "    </tr>\n",
       "  </thead>\n",
       "  <tbody>\n",
       "    <tr>\n",
       "      <th>7455-0</th>\n",
       "      <td>48557</td>\n",
       "    </tr>\n",
       "    <tr>\n",
       "      <th>5681-0</th>\n",
       "      <td>17057</td>\n",
       "    </tr>\n",
       "    <tr>\n",
       "      <th>7463-0</th>\n",
       "      <td>3729</td>\n",
       "    </tr>\n",
       "    <tr>\n",
       "      <th>5843-4</th>\n",
       "      <td>2598</td>\n",
       "    </tr>\n",
       "    <tr>\n",
       "      <th>5843-3</th>\n",
       "      <td>2458</td>\n",
       "    </tr>\n",
       "    <tr>\n",
       "      <th>6769-0</th>\n",
       "      <td>2197</td>\n",
       "    </tr>\n",
       "    <tr>\n",
       "      <th>7633-2</th>\n",
       "      <td>1816</td>\n",
       "    </tr>\n",
       "    <tr>\n",
       "      <th>5185-1</th>\n",
       "      <td>1309</td>\n",
       "    </tr>\n",
       "    <tr>\n",
       "      <th>7633-1</th>\n",
       "      <td>1276</td>\n",
       "    </tr>\n",
       "    <tr>\n",
       "      <th>5690-0</th>\n",
       "      <td>500</td>\n",
       "    </tr>\n",
       "  </tbody>\n",
       "</table>\n",
       "</div>"
      ],
      "text/plain": [
       "        tipo_infracao\n",
       "7455-0          48557\n",
       "5681-0          17057\n",
       "7463-0           3729\n",
       "5843-4           2598\n",
       "5843-3           2458\n",
       "6769-0           2197\n",
       "7633-2           1816\n",
       "5185-1           1309\n",
       "7633-1           1276\n",
       "5690-0            500"
      ]
     },
     "execution_count": 22,
     "metadata": {},
     "output_type": "execute_result"
    }
   ],
   "source": [
    "tipo_infracao = df['tipo_infracao'].value_counts()[:10]\n",
    "tipo_infracao = pd.DataFrame(tipo_infracao)\n",
    "tipo_infracao"
   ]
  },
  {
   "cell_type": "code",
   "execution_count": 167,
   "id": "75109db7",
   "metadata": {
    "scrolled": true
   },
   "outputs": [
    {
     "data": {
      "image/png": "[encoded data removed]",
      "text/plain": [
       "<Figure size 864x360 with 1 Axes>"
      ]
     },
     "metadata": {
      "needs_background": "light"
     },
     "output_type": "display_data"
    }
   ],
   "source": [
    "plt.figure(figsize=(12, 5))\n",
    "sns.barplot(x = tipo_infracao.index, y = \"tipo_infracao\", data = tipo_infracao)\n",
    "plt.title(\"Infrações com Maiores Frequências em mai/22\")\n",
    "plt.ylabel(\"Quantidade de Infrações\")\n",
    "plt.show()"
   ]
  },
  {
   "cell_type": "code",
   "execution_count": 140,
   "id": "f5fc695a",
   "metadata": {},
   "outputs": [
    {
     "data": {
      "text/plain": [
       "'Transitar em velocidade superior à máxima permitida em até 20%'"
      ]
     },
     "execution_count": 140,
     "metadata": {},
     "output_type": "execute_result"
    }
   ],
   "source": [
    "df[\"descricao\"][df[\"tipo_infracao\"] == \"7455-0\"].iloc[0]"
   ]
  },
  {
   "cell_type": "code",
   "execution_count": 143,
   "id": "9399abed",
   "metadata": {},
   "outputs": [
    {
     "data": {
      "text/plain": [
       "'Transitar na faixa/pista da direita regul circulação exclusiva determ veículo'"
      ]
     },
     "execution_count": 143,
     "metadata": {},
     "output_type": "execute_result"
    }
   ],
   "source": [
    "df[\"descricao\"][df[\"tipo_infracao\"] == \"5681-0\"].iloc[0]"
   ]
  },
  {
   "cell_type": "markdown",
   "id": "c73b9c6f",
   "metadata": {},
   "source": [
    "Transitar com o veículo na faixa ou na pista da direita regulamentada como de circulação exclusiva para determinado tipo de veículo, exceto para acesso a imóveis lindeiros ou conversões a direita. ([Multas BR](https://www.multasbr.com.br/infracoes/transito/56810/ctb-artigo-184-i))\n",
    "\n",
    "___"
   ]
  },
  {
   "cell_type": "code",
   "execution_count": 152,
   "id": "19808724",
   "metadata": {},
   "outputs": [
    {
     "data": {
      "text/html": [
       "<div>\n",
       "<style scoped>\n",
       "    .dataframe tbody tr th:only-of-type {\n",
       "        vertical-align: middle;\n",
       "    }\n",
       "\n",
       "    .dataframe tbody tr th {\n",
       "        vertical-align: top;\n",
       "    }\n",
       "\n",
       "    .dataframe thead th {\n",
       "        text-align: right;\n",
       "    }\n",
       "</style>\n",
       "<table border=\"1\" class=\"dataframe\">\n",
       "  <thead>\n",
       "    <tr style=\"text-align: right;\">\n",
       "      <th></th>\n",
       "      <th>grav_tipo</th>\n",
       "    </tr>\n",
       "  </thead>\n",
       "  <tbody>\n",
       "    <tr>\n",
       "      <th>Média</th>\n",
       "      <td>52206</td>\n",
       "    </tr>\n",
       "    <tr>\n",
       "      <th>Leve</th>\n",
       "      <td>17270</td>\n",
       "    </tr>\n",
       "    <tr>\n",
       "      <th>Grave</th>\n",
       "      <td>12167</td>\n",
       "    </tr>\n",
       "    <tr>\n",
       "      <th>Gravíssima</th>\n",
       "      <td>5641</td>\n",
       "    </tr>\n",
       "  </tbody>\n",
       "</table>\n",
       "</div>"
      ],
      "text/plain": [
       "            grav_tipo\n",
       "Média           52206\n",
       "Leve            17270\n",
       "Grave           12167\n",
       "Gravíssima       5641"
      ]
     },
     "execution_count": 152,
     "metadata": {},
     "output_type": "execute_result"
    }
   ],
   "source": [
    "gravidade = df[\"grav_tipo\"].value_counts()\n",
    "gravidade = pd.DataFrame(gravidade)\n",
    "gravidade"
   ]
  },
  {
   "cell_type": "code",
   "execution_count": 166,
   "id": "b87fdcd8",
   "metadata": {},
   "outputs": [
    {
     "data": {
      "image/png": "[encoded data removed]",
      "text/plain": [
       "<Figure size 864x360 with 1 Axes>"
      ]
     },
     "metadata": {
      "needs_background": "light"
     },
     "output_type": "display_data"
    }
   ],
   "source": [
    "plt.figure(figsize=(12, 5))\n",
    "sns.barplot(x = gravidade.index, y = \"grav_tipo\", data = gravidade)\n",
    "plt.title(\"Quantidade de Infrações por Gravidade\")\n",
    "plt.ylabel(\"Quantidade de Infrações\")\n",
    "plt.show()"
   ]
  },
  {
   "cell_type": "markdown",
   "id": "23324e88",
   "metadata": {},
   "source": [
    "___\n",
    "\n",
    "## Análise por *boxplot*"
   ]
  },
  {
   "cell_type": "code",
   "execution_count": 165,
   "id": "b6c3507b",
   "metadata": {
    "scrolled": true
   },
   "outputs": [
    {
     "data": {
      "image/png": "[encoded data removed]",
      "text/plain": [
       "<Figure size 288x648 with 1 Axes>"
      ]
     },
     "metadata": {
      "needs_background": "light"
     },
     "output_type": "display_data"
    }
   ],
   "source": [
    "plt.figure(figsize=(4, 9))\n",
    "sns.boxplot(y = \"cometimento\", data = data)\n",
    "plt.title(\"Boxplot da Qtd. de Infrações por Dia\")\n",
    "plt.ylabel(\"Quantidade de Infrações\")\n",
    "plt.show()"
   ]
  },
  {
   "cell_type": "code",
   "execution_count": 160,
   "id": "78c5beee",
   "metadata": {},
   "outputs": [
    {
     "data": {
      "text/html": [
       "<div>\n",
       "<style scoped>\n",
       "    .dataframe tbody tr th:only-of-type {\n",
       "        vertical-align: middle;\n",
       "    }\n",
       "\n",
       "    .dataframe tbody tr th {\n",
       "        vertical-align: top;\n",
       "    }\n",
       "\n",
       "    .dataframe thead th {\n",
       "        text-align: right;\n",
       "    }\n",
       "</style>\n",
       "<table border=\"1\" class=\"dataframe\">\n",
       "  <thead>\n",
       "    <tr style=\"text-align: right;\">\n",
       "      <th></th>\n",
       "      <th>cometimento</th>\n",
       "      <th>dia_semana</th>\n",
       "    </tr>\n",
       "  </thead>\n",
       "  <tbody>\n",
       "    <tr>\n",
       "      <th>2022-05-19</th>\n",
       "      <td>4448</td>\n",
       "      <td>Thursday</td>\n",
       "    </tr>\n",
       "    <tr>\n",
       "      <th>2022-05-13</th>\n",
       "      <td>4386</td>\n",
       "      <td>Friday</td>\n",
       "    </tr>\n",
       "    <tr>\n",
       "      <th>2022-05-10</th>\n",
       "      <td>4017</td>\n",
       "      <td>Tuesday</td>\n",
       "    </tr>\n",
       "    <tr>\n",
       "      <th>2022-05-04</th>\n",
       "      <td>3956</td>\n",
       "      <td>Wednesday</td>\n",
       "    </tr>\n",
       "    <tr>\n",
       "      <th>2022-05-16</th>\n",
       "      <td>3830</td>\n",
       "      <td>Monday</td>\n",
       "    </tr>\n",
       "    <tr>\n",
       "      <th>2022-05-25</th>\n",
       "      <td>3398</td>\n",
       "      <td>Wednesday</td>\n",
       "    </tr>\n",
       "    <tr>\n",
       "      <th>2022-05-27</th>\n",
       "      <td>3161</td>\n",
       "      <td>Friday</td>\n",
       "    </tr>\n",
       "    <tr>\n",
       "      <th>2022-05-30</th>\n",
       "      <td>3095</td>\n",
       "      <td>Monday</td>\n",
       "    </tr>\n",
       "    <tr>\n",
       "      <th>2022-05-20</th>\n",
       "      <td>3094</td>\n",
       "      <td>Friday</td>\n",
       "    </tr>\n",
       "    <tr>\n",
       "      <th>2022-05-05</th>\n",
       "      <td>3061</td>\n",
       "      <td>Thursday</td>\n",
       "    </tr>\n",
       "    <tr>\n",
       "      <th>2022-05-18</th>\n",
       "      <td>3020</td>\n",
       "      <td>Wednesday</td>\n",
       "    </tr>\n",
       "    <tr>\n",
       "      <th>2022-05-17</th>\n",
       "      <td>2957</td>\n",
       "      <td>Tuesday</td>\n",
       "    </tr>\n",
       "    <tr>\n",
       "      <th>2022-05-06</th>\n",
       "      <td>2861</td>\n",
       "      <td>Friday</td>\n",
       "    </tr>\n",
       "    <tr>\n",
       "      <th>2022-05-12</th>\n",
       "      <td>2786</td>\n",
       "      <td>Thursday</td>\n",
       "    </tr>\n",
       "    <tr>\n",
       "      <th>2022-05-09</th>\n",
       "      <td>2626</td>\n",
       "      <td>Monday</td>\n",
       "    </tr>\n",
       "    <tr>\n",
       "      <th>2022-05-11</th>\n",
       "      <td>2624</td>\n",
       "      <td>Wednesday</td>\n",
       "    </tr>\n",
       "    <tr>\n",
       "      <th>2022-05-28</th>\n",
       "      <td>2557</td>\n",
       "      <td>Saturday</td>\n",
       "    </tr>\n",
       "    <tr>\n",
       "      <th>2022-05-02</th>\n",
       "      <td>2483</td>\n",
       "      <td>Monday</td>\n",
       "    </tr>\n",
       "    <tr>\n",
       "      <th>2022-05-24</th>\n",
       "      <td>2470</td>\n",
       "      <td>Tuesday</td>\n",
       "    </tr>\n",
       "    <tr>\n",
       "      <th>2022-05-26</th>\n",
       "      <td>2437</td>\n",
       "      <td>Thursday</td>\n",
       "    </tr>\n",
       "    <tr>\n",
       "      <th>2022-05-31</th>\n",
       "      <td>2412</td>\n",
       "      <td>Tuesday</td>\n",
       "    </tr>\n",
       "    <tr>\n",
       "      <th>2022-05-14</th>\n",
       "      <td>2404</td>\n",
       "      <td>Saturday</td>\n",
       "    </tr>\n",
       "    <tr>\n",
       "      <th>2022-05-29</th>\n",
       "      <td>2375</td>\n",
       "      <td>Sunday</td>\n",
       "    </tr>\n",
       "    <tr>\n",
       "      <th>2022-05-07</th>\n",
       "      <td>2336</td>\n",
       "      <td>Saturday</td>\n",
       "    </tr>\n",
       "    <tr>\n",
       "      <th>2022-05-23</th>\n",
       "      <td>2277</td>\n",
       "      <td>Monday</td>\n",
       "    </tr>\n",
       "    <tr>\n",
       "      <th>2022-05-03</th>\n",
       "      <td>2207</td>\n",
       "      <td>Tuesday</td>\n",
       "    </tr>\n",
       "    <tr>\n",
       "      <th>2022-05-21</th>\n",
       "      <td>2138</td>\n",
       "      <td>Saturday</td>\n",
       "    </tr>\n",
       "    <tr>\n",
       "      <th>2022-05-08</th>\n",
       "      <td>2032</td>\n",
       "      <td>Sunday</td>\n",
       "    </tr>\n",
       "    <tr>\n",
       "      <th>2022-05-15</th>\n",
       "      <td>2000</td>\n",
       "      <td>Sunday</td>\n",
       "    </tr>\n",
       "    <tr>\n",
       "      <th>2022-05-22</th>\n",
       "      <td>1922</td>\n",
       "      <td>Sunday</td>\n",
       "    </tr>\n",
       "    <tr>\n",
       "      <th>2022-05-01</th>\n",
       "      <td>1914</td>\n",
       "      <td>Sunday</td>\n",
       "    </tr>\n",
       "  </tbody>\n",
       "</table>\n",
       "</div>"
      ],
      "text/plain": [
       "            cometimento dia_semana\n",
       "2022-05-19         4448   Thursday\n",
       "2022-05-13         4386     Friday\n",
       "2022-05-10         4017    Tuesday\n",
       "2022-05-04         3956  Wednesday\n",
       "2022-05-16         3830     Monday\n",
       "2022-05-25         3398  Wednesday\n",
       "2022-05-27         3161     Friday\n",
       "2022-05-30         3095     Monday\n",
       "2022-05-20         3094     Friday\n",
       "2022-05-05         3061   Thursday\n",
       "2022-05-18         3020  Wednesday\n",
       "2022-05-17         2957    Tuesday\n",
       "2022-05-06         2861     Friday\n",
       "2022-05-12         2786   Thursday\n",
       "2022-05-09         2626     Monday\n",
       "2022-05-11         2624  Wednesday\n",
       "2022-05-28         2557   Saturday\n",
       "2022-05-02         2483     Monday\n",
       "2022-05-24         2470    Tuesday\n",
       "2022-05-26         2437   Thursday\n",
       "2022-05-31         2412    Tuesday\n",
       "2022-05-14         2404   Saturday\n",
       "2022-05-29         2375     Sunday\n",
       "2022-05-07         2336   Saturday\n",
       "2022-05-23         2277     Monday\n",
       "2022-05-03         2207    Tuesday\n",
       "2022-05-21         2138   Saturday\n",
       "2022-05-08         2032     Sunday\n",
       "2022-05-15         2000     Sunday\n",
       "2022-05-22         1922     Sunday\n",
       "2022-05-01         1914     Sunday"
      ]
     },
     "execution_count": 160,
     "metadata": {},
     "output_type": "execute_result"
    }
   ],
   "source": [
    "data.sort_values(\"cometimento\", ascending = False)"
   ]
  }
 ],
 "metadata": {
  "kernelspec": {
   "display_name": "Python 3 (ipykernel)",
   "language": "python",
   "name": "python3"
  },
  "language_info": {
   "codemirror_mode": {
    "name": "ipython",
    "version": 3
   },
   "file_extension": ".py",
   "mimetype": "text/x-python",
   "name": "python",
   "nbconvert_exporter": "python",
   "pygments_lexer": "ipython3",
   "version": "3.9.12"
  }
 },
 "nbformat": 4,
 "nbformat_minor": 5
}
